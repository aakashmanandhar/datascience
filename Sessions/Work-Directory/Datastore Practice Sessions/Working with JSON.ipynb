{
 "cells": [
  {
   "cell_type": "markdown",
   "metadata": {},
   "source": [
    "##  WORKING WITH JSON FILE"
   ]
  },
  {
   "cell_type": "code",
   "execution_count": 1,
   "metadata": {
    "collapsed": true
   },
   "outputs": [],
   "source": [
    "import csv"
   ]
  },
  {
   "cell_type": "code",
   "execution_count": 2,
   "metadata": {
    "collapsed": true
   },
   "outputs": [],
   "source": [
    "import json"
   ]
  },
  {
   "cell_type": "code",
   "execution_count": 5,
   "metadata": {},
   "outputs": [
    {
     "name": "stdout",
     "output_type": "stream",
     "text": [
      "Station Minimum Maximum Rainfall\n",
      "Dipayal 24.6 30.0 3.2\n",
      "Dadeldhura 17.1 21.4 13.0\n",
      "Dhangadi 24.9 31.4 18.8\n",
      "Birendranagar 22.8 30.3 0.3\n",
      "Nepalgunj 25.2 33.7 1.2\n",
      "Jumla 15.5 19.0 13.7\n",
      "Dang 23.2 31.8 0.4\n",
      "Pokhara 21.4 30.4 19.3\n",
      "Bhairahawa 25.2 35.2 15.9\n",
      "Simara 25.2 34.0 0.0\n",
      "Kathmandu 20.5 30.4 1.3\n",
      "Okhaldhunga 17.5 26.4 0.0\n",
      "Taplejung 18.3 27.0 2.6\n",
      "Dhankuta 20.9 29.8 7.1\n",
      "Biratnagar 26.3 34.5 0.0\n",
      "Jomsom 12.2 20.5 2.2*\n",
      "Dharan 25.0 32.5 1.4*\n",
      "Lumle 16.8 25.0 47.4*\n",
      "Jankapur 27.0 34.6 Traces*\n",
      "Jiri 16.9 25.0 0.2*\n"
     ]
    }
   ],
   "source": [
    "with open('../../Data/Weather.csv', 'r') as csvfile:\n",
    "    reader = csv.reader(csvfile)\n",
    "    for line in reader:\n",
    "        print(line[0], line[1], line[2], line[3])"
   ]
  },
  {
   "cell_type": "code",
   "execution_count": 7,
   "metadata": {
    "collapsed": true
   },
   "outputs": [],
   "source": [
    "fieldnames = ['Station', 'Maximum', 'Minimum', 'Rainfall']"
   ]
  },
  {
   "cell_type": "code",
   "execution_count": 10,
   "metadata": {},
   "outputs": [
    {
     "name": "stdout",
     "output_type": "stream",
     "text": [
      "Station Minimum Maximum Rainfall\n",
      "Dipayal 24.6 30.0 3.2\n",
      "Dadeldhura 17.1 21.4 13.0\n",
      "Dhangadi 24.9 31.4 18.8\n",
      "Birendranagar 22.8 30.3 0.3\n",
      "Nepalgunj 25.2 33.7 1.2\n",
      "Jumla 15.5 19.0 13.7\n",
      "Dang 23.2 31.8 0.4\n",
      "Pokhara 21.4 30.4 19.3\n",
      "Bhairahawa 25.2 35.2 15.9\n",
      "Simara 25.2 34.0 0.0\n",
      "Kathmandu 20.5 30.4 1.3\n",
      "Okhaldhunga 17.5 26.4 0.0\n",
      "Taplejung 18.3 27.0 2.6\n",
      "Dhankuta 20.9 29.8 7.1\n",
      "Biratnagar 26.3 34.5 0.0\n",
      "Jomsom 12.2 20.5 2.2*\n",
      "Dharan 25.0 32.5 1.4*\n",
      "Lumle 16.8 25.0 47.4*\n",
      "Jankapur 27.0 34.6 Traces*\n",
      "Jiri 16.9 25.0 0.2*\n"
     ]
    }
   ],
   "source": [
    "with open('../../Data/Weather.csv', 'r') as csvfile:\n",
    "    reader = csv.DictReader(csvfile, fieldnames=fieldnames)\n",
    "    for line in reader:\n",
    "        print(line['Station'], line['Maximum'], line['Minimum'], line['Rainfall'])"
   ]
  },
  {
   "cell_type": "markdown",
   "metadata": {},
   "source": [
    "## Convert CVS to JSON"
   ]
  },
  {
   "cell_type": "code",
   "execution_count": 16,
   "metadata": {
    "collapsed": true
   },
   "outputs": [],
   "source": [
    "import json as j"
   ]
  },
  {
   "cell_type": "code",
   "execution_count": 17,
   "metadata": {
    "collapsed": true
   },
   "outputs": [],
   "source": [
    "_jsn = {'Station': 'Kathmandu'}"
   ]
  },
  {
   "cell_type": "code",
   "execution_count": 18,
   "metadata": {},
   "outputs": [
    {
     "data": {
      "text/plain": [
       "{'Station': 'Kathmandu'}"
      ]
     },
     "execution_count": 18,
     "metadata": {},
     "output_type": "execute_result"
    }
   ],
   "source": [
    "_jsn"
   ]
  },
  {
   "cell_type": "code",
   "execution_count": 19,
   "metadata": {},
   "outputs": [
    {
     "data": {
      "text/plain": [
       "'{\"Station\": \"Kathmandu\"}'"
      ]
     },
     "execution_count": 19,
     "metadata": {},
     "output_type": "execute_result"
    }
   ],
   "source": [
    "j.dumps(_jsn)"
   ]
  },
  {
   "cell_type": "code",
   "execution_count": 21,
   "metadata": {},
   "outputs": [
    {
     "data": {
      "text/plain": [
       "{'Station': 'Kathmandu'}"
      ]
     },
     "execution_count": 21,
     "metadata": {},
     "output_type": "execute_result"
    }
   ],
   "source": [
    "j.loads('{\"Station\": \"Kathmandu\"}')"
   ]
  },
  {
   "cell_type": "code",
   "execution_count": 25,
   "metadata": {
    "collapsed": true
   },
   "outputs": [],
   "source": [
    "data = {\n",
    "    'weathers': []\n",
    "}\n",
    "with open('../../Data/Weather.csv', 'r') as csvfile:\n",
    "    reader = csv.DictReader(csvfile, fieldnames=fieldnames)\n",
    "    next(reader)\n",
    "    for line in reader:\n",
    "        data['weathers'].append(line)\n",
    "        \n",
    "with open('../../Data/Weathers.json', 'w') as jsonfile:\n",
    "    j.dump(data, jsonfile)"
   ]
  },
  {
   "cell_type": "code",
   "execution_count": 27,
   "metadata": {},
   "outputs": [],
   "source": [
    "_jsonfile = open('../../Data/Weathers.json', 'r')\n",
    "_json = j.load(_jsonfile)"
   ]
  },
  {
   "cell_type": "code",
   "execution_count": 28,
   "metadata": {},
   "outputs": [
    {
     "data": {
      "text/plain": [
       "{'weathers': [{'Maximum': '24.6',\n",
       "   'Minimum': '30.0',\n",
       "   'Rainfall': '3.2',\n",
       "   'Station': 'Dipayal'},\n",
       "  {'Maximum': '17.1',\n",
       "   'Minimum': '21.4',\n",
       "   'Rainfall': '13.0',\n",
       "   'Station': 'Dadeldhura'},\n",
       "  {'Maximum': '24.9',\n",
       "   'Minimum': '31.4',\n",
       "   'Rainfall': '18.8',\n",
       "   'Station': 'Dhangadi'},\n",
       "  {'Maximum': '22.8',\n",
       "   'Minimum': '30.3',\n",
       "   'Rainfall': '0.3',\n",
       "   'Station': 'Birendranagar'},\n",
       "  {'Maximum': '25.2',\n",
       "   'Minimum': '33.7',\n",
       "   'Rainfall': '1.2',\n",
       "   'Station': 'Nepalgunj'},\n",
       "  {'Maximum': '15.5',\n",
       "   'Minimum': '19.0',\n",
       "   'Rainfall': '13.7',\n",
       "   'Station': 'Jumla'},\n",
       "  {'Maximum': '23.2', 'Minimum': '31.8', 'Rainfall': '0.4', 'Station': 'Dang'},\n",
       "  {'Maximum': '21.4',\n",
       "   'Minimum': '30.4',\n",
       "   'Rainfall': '19.3',\n",
       "   'Station': 'Pokhara'},\n",
       "  {'Maximum': '25.2',\n",
       "   'Minimum': '35.2',\n",
       "   'Rainfall': '15.9',\n",
       "   'Station': 'Bhairahawa'},\n",
       "  {'Maximum': '25.2',\n",
       "   'Minimum': '34.0',\n",
       "   'Rainfall': '0.0',\n",
       "   'Station': 'Simara'},\n",
       "  {'Maximum': '20.5',\n",
       "   'Minimum': '30.4',\n",
       "   'Rainfall': '1.3',\n",
       "   'Station': 'Kathmandu'},\n",
       "  {'Maximum': '17.5',\n",
       "   'Minimum': '26.4',\n",
       "   'Rainfall': '0.0',\n",
       "   'Station': 'Okhaldhunga'},\n",
       "  {'Maximum': '18.3',\n",
       "   'Minimum': '27.0',\n",
       "   'Rainfall': '2.6',\n",
       "   'Station': 'Taplejung'},\n",
       "  {'Maximum': '20.9',\n",
       "   'Minimum': '29.8',\n",
       "   'Rainfall': '7.1',\n",
       "   'Station': 'Dhankuta'},\n",
       "  {'Maximum': '26.3',\n",
       "   'Minimum': '34.5',\n",
       "   'Rainfall': '0.0',\n",
       "   'Station': 'Biratnagar'},\n",
       "  {'Maximum': '12.2',\n",
       "   'Minimum': '20.5',\n",
       "   'Rainfall': '2.2*',\n",
       "   'Station': 'Jomsom'},\n",
       "  {'Maximum': '25.0',\n",
       "   'Minimum': '32.5',\n",
       "   'Rainfall': '1.4*',\n",
       "   'Station': 'Dharan'},\n",
       "  {'Maximum': '16.8',\n",
       "   'Minimum': '25.0',\n",
       "   'Rainfall': '47.4*',\n",
       "   'Station': 'Lumle'},\n",
       "  {'Maximum': '27.0',\n",
       "   'Minimum': '34.6',\n",
       "   'Rainfall': 'Traces*',\n",
       "   'Station': 'Jankapur'},\n",
       "  {'Maximum': '16.9',\n",
       "   'Minimum': '25.0',\n",
       "   'Rainfall': '0.2*',\n",
       "   'Station': 'Jiri'}]}"
      ]
     },
     "execution_count": 28,
     "metadata": {},
     "output_type": "execute_result"
    }
   ],
   "source": [
    "_json"
   ]
  },
  {
   "cell_type": "code",
   "execution_count": null,
   "metadata": {
    "collapsed": true
   },
   "outputs": [],
   "source": []
  },
  {
   "cell_type": "code",
   "execution_count": null,
   "metadata": {
    "collapsed": true
   },
   "outputs": [],
   "source": []
  },
  {
   "cell_type": "code",
   "execution_count": null,
   "metadata": {
    "collapsed": true
   },
   "outputs": [],
   "source": []
  },
  {
   "cell_type": "code",
   "execution_count": null,
   "metadata": {
    "collapsed": true
   },
   "outputs": [],
   "source": []
  },
  {
   "cell_type": "code",
   "execution_count": null,
   "metadata": {
    "collapsed": true
   },
   "outputs": [],
   "source": []
  },
  {
   "cell_type": "code",
   "execution_count": null,
   "metadata": {
    "collapsed": true
   },
   "outputs": [],
   "source": []
  },
  {
   "cell_type": "code",
   "execution_count": null,
   "metadata": {
    "collapsed": true
   },
   "outputs": [],
   "source": []
  },
  {
   "cell_type": "code",
   "execution_count": null,
   "metadata": {
    "collapsed": true
   },
   "outputs": [],
   "source": []
  },
  {
   "cell_type": "code",
   "execution_count": null,
   "metadata": {
    "collapsed": true
   },
   "outputs": [],
   "source": []
  },
  {
   "cell_type": "code",
   "execution_count": null,
   "metadata": {
    "collapsed": true
   },
   "outputs": [],
   "source": []
  },
  {
   "cell_type": "code",
   "execution_count": null,
   "metadata": {
    "collapsed": true
   },
   "outputs": [],
   "source": []
  },
  {
   "cell_type": "code",
   "execution_count": null,
   "metadata": {
    "collapsed": true
   },
   "outputs": [],
   "source": []
  }
 ],
 "metadata": {
  "kernelspec": {
   "display_name": "Python 3",
   "language": "python",
   "name": "python3"
  },
  "language_info": {
   "codemirror_mode": {
    "name": "ipython",
    "version": 3
   },
   "file_extension": ".py",
   "mimetype": "text/x-python",
   "name": "python",
   "nbconvert_exporter": "python",
   "pygments_lexer": "ipython3",
   "version": "3.6.1"
  }
 },
 "nbformat": 4,
 "nbformat_minor": 2
}
