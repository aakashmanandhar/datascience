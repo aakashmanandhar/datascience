{
 "cells": [
  {
   "cell_type": "markdown",
   "metadata": {},
   "source": [
    "## Working with Relational Database SQLite3"
   ]
  },
  {
   "cell_type": "code",
   "execution_count": 115,
   "metadata": {
    "collapsed": true
   },
   "outputs": [],
   "source": [
    "import sqlite3"
   ]
  },
  {
   "cell_type": "code",
   "execution_count": 116,
   "metadata": {
    "collapsed": true
   },
   "outputs": [],
   "source": [
    "import json"
   ]
  },
  {
   "cell_type": "code",
   "execution_count": 117,
   "metadata": {
    "collapsed": true
   },
   "outputs": [],
   "source": [
    "conn = sqlite3.connect('../../Data/Weathers.sqlite3')"
   ]
  },
  {
   "cell_type": "code",
   "execution_count": 118,
   "metadata": {},
   "outputs": [
    {
     "data": {
      "text/plain": [
       "<sqlite3.Connection at 0x7f1b486a7b90>"
      ]
     },
     "execution_count": 118,
     "metadata": {},
     "output_type": "execute_result"
    }
   ],
   "source": [
    "conn"
   ]
  },
  {
   "cell_type": "code",
   "execution_count": 119,
   "metadata": {
    "collapsed": true
   },
   "outputs": [],
   "source": [
    "cursor = conn.cursor()"
   ]
  },
  {
   "cell_type": "code",
   "execution_count": 120,
   "metadata": {},
   "outputs": [
    {
     "data": {
      "text/plain": [
       "<sqlite3.Cursor at 0x7f1b48505650>"
      ]
     },
     "execution_count": 120,
     "metadata": {},
     "output_type": "execute_result"
    }
   ],
   "source": [
    "cursor"
   ]
  },
  {
   "cell_type": "code",
   "execution_count": 121,
   "metadata": {
    "collapsed": true
   },
   "outputs": [],
   "source": [
    "sql = \"CREATE TABLE weathers(station TEXT PRIMARY KEY, maximum DECIMAL, minimum DECIMAL, rainfall TEXT)\""
   ]
  },
  {
   "cell_type": "code",
   "execution_count": 122,
   "metadata": {},
   "outputs": [
    {
     "data": {
      "text/plain": [
       "<sqlite3.Cursor at 0x7f1b48505650>"
      ]
     },
     "execution_count": 122,
     "metadata": {},
     "output_type": "execute_result"
    }
   ],
   "source": [
    "cursor.execute(sql)"
   ]
  },
  {
   "cell_type": "code",
   "execution_count": 123,
   "metadata": {},
   "outputs": [
    {
     "data": {
      "text/plain": [
       "<function Connection.commit>"
      ]
     },
     "execution_count": 123,
     "metadata": {},
     "output_type": "execute_result"
    }
   ],
   "source": [
    "conn.commit"
   ]
  },
  {
   "cell_type": "code",
   "execution_count": 124,
   "metadata": {
    "collapsed": true
   },
   "outputs": [],
   "source": [
    "sql = \"\"\"INSERT INTO weathers(station,maximum,minimum,rainfall)\n",
    "        VALUES\n",
    "        ('New Baneshwwor', 22.2, 44.4, 4.4)\"\"\""
   ]
  },
  {
   "cell_type": "code",
   "execution_count": 125,
   "metadata": {},
   "outputs": [
    {
     "data": {
      "text/plain": [
       "<sqlite3.Cursor at 0x7f1b48505650>"
      ]
     },
     "execution_count": 125,
     "metadata": {},
     "output_type": "execute_result"
    }
   ],
   "source": [
    "cursor.execute(sql)"
   ]
  },
  {
   "cell_type": "code",
   "execution_count": 126,
   "metadata": {},
   "outputs": [],
   "source": [
    "conn.commit()"
   ]
  },
  {
   "cell_type": "code",
   "execution_count": 127,
   "metadata": {
    "collapsed": true
   },
   "outputs": [],
   "source": [
    "_jsonfile.close()"
   ]
  },
  {
   "cell_type": "markdown",
   "metadata": {},
   "source": [
    "## LOAD JSON FILE AND INSERT INTO DATABASE"
   ]
  },
  {
   "cell_type": "code",
   "execution_count": 142,
   "metadata": {
    "collapsed": true
   },
   "outputs": [],
   "source": [
    "sql = \"\"\"INSERT INTO weathers(station,maximum,minimum,rainfall)\n",
    "        VALUES\n",
    "        (?,?,?,?)\"\"\""
   ]
  },
  {
   "cell_type": "code",
   "execution_count": 143,
   "metadata": {
    "scrolled": false
   },
   "outputs": [
    {
     "name": "stdout",
     "output_type": "stream",
     "text": [
      "('Dipayal', '24.6', '30.0', '3.2')\n",
      "('Dadeldhura', '17.1', '21.4', '13.0')\n",
      "('Dhangadi', '24.9', '31.4', '18.8')\n",
      "('Birendranagar', '22.8', '30.3', '0.3')\n",
      "('Nepalgunj', '25.2', '33.7', '1.2')\n",
      "('Jumla', '15.5', '19.0', '13.7')\n",
      "('Dang', '23.2', '31.8', '0.4')\n",
      "('Pokhara', '21.4', '30.4', '19.3')\n",
      "('Bhairahawa', '25.2', '35.2', '15.9')\n",
      "('Simara', '25.2', '34.0', '0.0')\n",
      "('Kathmandu', '20.5', '30.4', '1.3')\n",
      "('Okhaldhunga', '17.5', '26.4', '0.0')\n",
      "('Taplejung', '18.3', '27.0', '2.6')\n",
      "('Dhankuta', '20.9', '29.8', '7.1')\n",
      "('Biratnagar', '26.3', '34.5', '0.0')\n",
      "('Jomsom', '12.2', '20.5', '2.2*')\n",
      "('Dharan', '25.0', '32.5', '1.4*')\n",
      "('Lumle', '16.8', '25.0', '47.4*')\n",
      "('Jankapur', '27.0', '34.6', 'Traces*')\n",
      "('Jiri', '16.9', '25.0', '0.2*')\n"
     ]
    }
   ],
   "source": [
    "with open('../../Data/Weathers.json', 'r') as _jsonfile:\n",
    "    _json = json.load(_jsonfile)\n",
    "    for each in _json['weathers']:\n",
    "        values = (each['Station'], each['Maximum'], each['Minimum'], each['Rainfall'])\n",
    "        print(values)\n",
    "        cursor.execute(sql, values)\n",
    "    conn.commit()"
   ]
  },
  {
   "cell_type": "code",
   "execution_count": 144,
   "metadata": {
    "collapsed": true
   },
   "outputs": [],
   "source": [
    "conn.commit()"
   ]
  },
  {
   "cell_type": "code",
   "execution_count": 145,
   "metadata": {},
   "outputs": [
    {
     "data": {
      "text/plain": [
       "<sqlite3.Cursor at 0x7f1b48505650>"
      ]
     },
     "execution_count": 145,
     "metadata": {},
     "output_type": "execute_result"
    }
   ],
   "source": [
    "cursor.execute(\"SELECT * FROM weathers\")"
   ]
  },
  {
   "cell_type": "code",
   "execution_count": 147,
   "metadata": {},
   "outputs": [
    {
     "data": {
      "text/plain": [
       "('Dipayal', 24.6, 30, '3.2')"
      ]
     },
     "execution_count": 147,
     "metadata": {},
     "output_type": "execute_result"
    }
   ],
   "source": [
    "cursor.fetchone()"
   ]
  },
  {
   "cell_type": "code",
   "execution_count": 148,
   "metadata": {},
   "outputs": [
    {
     "data": {
      "text/plain": [
       "('Dadeldhura', 17.1, 21.4, '13.0')"
      ]
     },
     "execution_count": 148,
     "metadata": {},
     "output_type": "execute_result"
    }
   ],
   "source": [
    "cursor.fetchone()"
   ]
  },
  {
   "cell_type": "code",
   "execution_count": 149,
   "metadata": {},
   "outputs": [
    {
     "data": {
      "text/plain": [
       "[('Dhangadi', 24.9, 31.4, '18.8'),\n",
       " ('Birendranagar', 22.8, 30.3, '0.3'),\n",
       " ('Nepalgunj', 25.2, 33.7, '1.2'),\n",
       " ('Jumla', 15.5, 19, '13.7'),\n",
       " ('Dang', 23.2, 31.8, '0.4'),\n",
       " ('Pokhara', 21.4, 30.4, '19.3'),\n",
       " ('Bhairahawa', 25.2, 35.2, '15.9'),\n",
       " ('Simara', 25.2, 34, '0.0'),\n",
       " ('Kathmandu', 20.5, 30.4, '1.3'),\n",
       " ('Okhaldhunga', 17.5, 26.4, '0.0'),\n",
       " ('Taplejung', 18.3, 27, '2.6'),\n",
       " ('Dhankuta', 20.9, 29.8, '7.1'),\n",
       " ('Biratnagar', 26.3, 34.5, '0.0'),\n",
       " ('Jomsom', 12.2, 20.5, '2.2*'),\n",
       " ('Dharan', 25, 32.5, '1.4*'),\n",
       " ('Lumle', 16.8, 25, '47.4*'),\n",
       " ('Jankapur', 27, 34.6, 'Traces*'),\n",
       " ('Jiri', 16.9, 25, '0.2*')]"
      ]
     },
     "execution_count": 149,
     "metadata": {},
     "output_type": "execute_result"
    }
   ],
   "source": [
    "cursor.fetchall()"
   ]
  },
  {
   "cell_type": "code",
   "execution_count": 166,
   "metadata": {},
   "outputs": [
    {
     "data": {
      "text/plain": [
       "<sqlite3.Cursor at 0x7f1b48505650>"
      ]
     },
     "execution_count": 166,
     "metadata": {},
     "output_type": "execute_result"
    }
   ],
   "source": [
    "cursor.execute(\"SELECT * FROM weathers WHERE maximum<=15.5\")"
   ]
  },
  {
   "cell_type": "code",
   "execution_count": 167,
   "metadata": {},
   "outputs": [
    {
     "data": {
      "text/plain": [
       "[('Jumla', 15.5, 19, '13.7'), ('Jomsom', 12.2, 20.5, '2.2*')]"
      ]
     },
     "execution_count": 167,
     "metadata": {},
     "output_type": "execute_result"
    }
   ],
   "source": [
    "cursor.fetchall()"
   ]
  },
  {
   "cell_type": "code",
   "execution_count": null,
   "metadata": {
    "collapsed": true
   },
   "outputs": [],
   "source": []
  },
  {
   "cell_type": "code",
   "execution_count": null,
   "metadata": {
    "collapsed": true
   },
   "outputs": [],
   "source": []
  },
  {
   "cell_type": "code",
   "execution_count": null,
   "metadata": {
    "collapsed": true
   },
   "outputs": [],
   "source": []
  },
  {
   "cell_type": "code",
   "execution_count": null,
   "metadata": {
    "collapsed": true
   },
   "outputs": [],
   "source": []
  },
  {
   "cell_type": "code",
   "execution_count": null,
   "metadata": {
    "collapsed": true
   },
   "outputs": [],
   "source": []
  },
  {
   "cell_type": "code",
   "execution_count": null,
   "metadata": {
    "collapsed": true
   },
   "outputs": [],
   "source": []
  },
  {
   "cell_type": "code",
   "execution_count": null,
   "metadata": {
    "collapsed": true
   },
   "outputs": [],
   "source": []
  }
 ],
 "metadata": {
  "kernelspec": {
   "display_name": "Python 3",
   "language": "python",
   "name": "python3"
  },
  "language_info": {
   "codemirror_mode": {
    "name": "ipython",
    "version": 3
   },
   "file_extension": ".py",
   "mimetype": "text/x-python",
   "name": "python",
   "nbconvert_exporter": "python",
   "pygments_lexer": "ipython3",
   "version": "3.6.1"
  }
 },
 "nbformat": 4,
 "nbformat_minor": 2
}
